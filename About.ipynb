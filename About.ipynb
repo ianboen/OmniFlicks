{
 "cells": [
  {
   "cell_type": "markdown",
   "id": "ef5c1714",
   "metadata": {},
   "source": [
    "# OmniFlicks About Page\n",
    "Team: Ian Boen"
   ]
  },
  {
   "cell_type": "code",
   "execution_count": 2,
   "id": "9156f8e6",
   "metadata": {},
   "outputs": [
    {
     "data": {
      "text/plain": [
       "'/Users/ian/NLP Assignments/OmniFlicks'"
      ]
     },
     "execution_count": 2,
     "metadata": {},
     "output_type": "execute_result"
    }
   ],
   "source": [
    "import os\n",
    "os.getcwd()"
   ]
  },
  {
   "cell_type": "code",
   "execution_count": 3,
   "id": "2b1f19f0",
   "metadata": {},
   "outputs": [
    {
     "data": {
      "text/plain": [
       "'/Users/ian/NLP Assignments/OmniFlicks/pages'"
      ]
     },
     "execution_count": 3,
     "metadata": {},
     "output_type": "execute_result"
    }
   ],
   "source": [
    "os.chdir('/Users/ian/NLP Assignments/OmniFlicks/pages')\n",
    "os.getcwd()"
   ]
  },
  {
   "cell_type": "markdown",
   "id": "9b1c3fc3",
   "metadata": {},
   "source": [
    "## Writing About Page to OmniFlicks app inside Streamlit"
   ]
  },
  {
   "cell_type": "code",
   "execution_count": 20,
   "id": "e1496fb9",
   "metadata": {},
   "outputs": [
    {
     "name": "stdout",
     "output_type": "stream",
     "text": [
      "Overwriting About.py\n"
     ]
    }
   ],
   "source": [
    "%%writefile About.py\n",
    "\n",
    "import streamlit as st\n",
    "import pickle\n",
    "from streamlit_option_menu import option_menu\n",
    "import streamlit.components.v1 as html\n",
    "import numpy as np\n",
    "import pandas as pd\n",
    "import base64\n",
    "from sklearn.metrics.pairwise import cosine_similarity\n",
    "from PIL import Image\n",
    "from streamlit_extras.app_logo import add_logo\n",
    "\n",
    "\n",
    "# Update sidebar\n",
    "updated_sidebar = '''\n",
    "    <style>\n",
    "    #stSidebarNav {\n",
    "    font-family: \"Showtime\"\n",
    "    }\n",
    "    </style>\n",
    "    '''\n",
    "    \n",
    "st.markdown('''\n",
    "    <style>\n",
    "        [data-testid=\"stSidebarNav\"] {\n",
    "        font-family: 'Showtime'\n",
    "        }\n",
    "    </style>\n",
    "    ''', unsafe_allow_html=True)\n",
    "\n",
    "\n",
    "# Add columns with logo and Omniflicks title\n",
    "col1, mid, col2 = st.columns([2,1,8])\n",
    "with col1:\n",
    "    st.image(\"Omni Reel-80.jpg\", width=100)\n",
    "\n",
    "with col2:\n",
    "    st.markdown('''\n",
    "    <style>.font{\n",
    "        font-size:60px; font-family: 'Showtime'\n",
    "    }\n",
    "    </style> ''', unsafe_allow_html=True)\n",
    "    st.markdown('<h1 class=\"font\">About OmniFlicks</h1>', \n",
    "                unsafe_allow_html=True)\n",
    "\n",
    "    \n",
    "def add_bg_from_local(image_file):\n",
    "    with open(image_file, 'rb') as image_file:\n",
    "        encoded_string = base64.b64encode(image_file.read())\n",
    "    st.markdown(\n",
    "    f\"\"\"\n",
    "    <style>\n",
    "    .stApp{{\n",
    "        background-image: url(data:image/{'jpeg'};base64,{encoded_string.decode()});\n",
    "        background-size: cover;\n",
    "    }}\n",
    "    <style/>\n",
    "    \"\"\",\n",
    "    unsafe_allow_html=True\n",
    "    )\n",
    "add_bg_from_local('movie_background.jpeg')\n",
    "\n",
    "st.write('**_GitHub_** - Link to GitHub documents')\n",
    "st.write('''**About** - OmniFlicks pulls movie data from Movies Daily Update Dataset via _Kaggle.com_. The dataset originates from TMDb.\n",
    "         \\nThe application generates recommendations for the top 6 movies of a chosen title.\n",
    "         \\nNatural Language Processing is used to generate content-based recommendations by creating cosine similarity values for all movie descriptions.\n",
    "         \\n**Future Enhancements** - Hybrid recommendations utilizing user- and- content-based filtering;\n",
    "         User Accounts;\n",
    "         API references for other sites such as OMDB;\n",
    "         Functionality to determine streaming platforms for which each movie is currently streaming\n",
    "         \\n**Source:** https://www.kaggle.com/code/rohitshirudkar/movie-recommendation-system/data''')\n",
    "\n",
    "\n"
   ]
  },
  {
   "cell_type": "code",
   "execution_count": null,
   "id": "783107d5",
   "metadata": {},
   "outputs": [],
   "source": []
  }
 ],
 "metadata": {
  "kernelspec": {
   "display_name": "Python 3 (ipykernel)",
   "language": "python",
   "name": "python3"
  },
  "language_info": {
   "codemirror_mode": {
    "name": "ipython",
    "version": 3
   },
   "file_extension": ".py",
   "mimetype": "text/x-python",
   "name": "python",
   "nbconvert_exporter": "python",
   "pygments_lexer": "ipython3",
   "version": "3.9.15"
  }
 },
 "nbformat": 4,
 "nbformat_minor": 5
}
